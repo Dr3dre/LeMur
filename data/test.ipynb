{
 "cells": [
  {
   "cell_type": "code",
   "execution_count": 2,
   "metadata": {},
   "outputs": [],
   "source": [
    "import pandas as pd"
   ]
  },
  {
   "cell_type": "markdown",
   "metadata": {},
   "source": [
    "# Running products\n",
    "\n",
    "```python\n",
    "running_products.append(\n",
    "    RunningProduct(\n",
    "        product_id, = stato.N° codice intern\n",
    "        article,    = stato.codarticolo\n",
    "        kg_request, = plan.quantità\n",
    "        start_date, = stato.data ora\\npartenza\n",
    "        due_date,   = stato.data ora\\nfine\n",
    "        machine,    = stato.N° MC\n",
    "        operator,   = NA\n",
    "        velocity,   = tempo_levata??\n",
    "        remaining_levate, = stato.levate ord - stato.levate att\n",
    "        current_op_type,  = 'running'\n",
    "        remaining_time    = remaining_levate * [tempo_levata]\n",
    "    )\n",
    ")\n",
    "\n",
    "giorni passati = (datetime.now() - stato.data ora\\npartenza').time_units_in_a_day\n",
    "tempo_levata = stato.levate_attuali / giorni passati\n",
    "```"
   ]
  },
  {
   "cell_type": "code",
   "execution_count": null,
   "metadata": {},
   "outputs": [],
   "source": [
    "# input:\n",
    "\n",
    "path = 'input/Dati per simulazione/'\n",
    "data = '19.11.2024'\n",
    "\n",
    "stato = pd.read_excel(path + 'Stato_Macchine_' + data + '.xlsx')\n",
    "plan = pd.read_excel(path + 'Pianificazione_' + data + '.xlsx')"
   ]
  },
  {
   "cell_type": "code",
   "execution_count": null,
   "metadata": {},
   "outputs": [],
   "source": [
    "time_units_in_a_day = 24\n",
    "\n",
    "id = row['N° codice Interno']\n",
    "article = row['codarticolo']\n",
    "kg_request = row['quantita']\n",
    "start_date = row['data ora\\npartenza'].date()\n",
    "due_date = row['data ora\\nfine'].date()\n",
    "machine = row['N° MC']\n",
    "operator = null\n",
    "\n",
    "giorni_passati = (pd.to_datetime(data) - start_date) * time_units_in_a_day\n",
    "tempo_levata = row['N° levate att.'] / giorni_passati\n",
    "\n",
    "velocity = tempo_levata           # NOTE: not sure about this\n",
    "remaining_levate = row['N° levate ord'] - row['N° levate att.']\n",
    "current_op_type = 3      #running\n",
    "remaining_time = remaining_levate * tempo_levata\n"
   ]
  },
  {
   "cell_type": "code",
   "execution_count": 70,
   "metadata": {},
   "outputs": [
    {
     "name": "stderr",
     "output_type": "stream",
     "text": [
      "/var/folders/d8/s1xnz51d3tj_ps3_47fvlxy00000gn/T/ipykernel_5980/2062529108.py:5: UserWarning: Parsing dates in %d.%m.%Y format when dayfirst=False (the default) was specified. Pass `dayfirst=True` or specify a format to silence this warning.\n",
      "  pd.to_datetime(data)\n"
     ]
    },
    {
     "data": {
      "text/plain": [
       "Timestamp('2024-11-19 00:00:00')"
      ]
     },
     "execution_count": 70,
     "metadata": {},
     "output_type": "execute_result"
    }
   ],
   "source": [
    "from datetime import datetime\n",
    "\n",
    "data = '19.11.2024'\n",
    "datetime.strptime(data, '%d.%m.%Y')\n",
    "pd.to_datetime(data)"
   ]
  },
  {
   "cell_type": "code",
   "execution_count": 9,
   "metadata": {},
   "outputs": [
    {
     "data": {
      "text/plain": [
       "(Index(['N° MC', 'N° codice Interno', 'N° fusi eff.', 'N° levate ord',\n",
       "        'N° levate att.', 'codarticolo', 'descrizione', 'anima', 'spandex',\n",
       "        'copertura', 'peso spola int', 'ciclo', 'data ora\\npartenza',\n",
       "        'data ora\\nfine', 'infilaggio', 'N° scheda', 'note',\n",
       "        'Rotture Elastomero', 'Rotture Copertura'],\n",
       "       dtype='object'),\n",
       " Index(['Cliente', 'n. ordine interno', 'codarticolo', 'descrizione',\n",
       "        'quantità', 'data di consegna', 'Mc No.', 'data fermata prevista',\n",
       "        'data inserimento produzione', 'n. levate', 'nr fusi effettivi',\n",
       "        'fine produzione', 'kg prodotti', 'evaso'],\n",
       "       dtype='object'))"
      ]
     },
     "execution_count": 9,
     "metadata": {},
     "output_type": "execute_result"
    }
   ],
   "source": [
    "stato.columns, plan.columns"
   ]
  },
  {
   "cell_type": "code",
   "execution_count": 29,
   "metadata": {},
   "outputs": [],
   "source": [
    "class Product (object) :\n",
    "    '''\n",
    "    A Product is a request for a certain amount of an certain article\n",
    "    '''\n",
    "    def __init__(self, id, article, kg_request, start_date, due_date):\n",
    "        # Input level Data\n",
    "        self.id = id\n",
    "        self.article = article\n",
    "        self.kg_request = kg_request\n",
    "        self.start_date = start_date\n",
    "        self.due_date = due_date\n",
    "\n",
    "        # Output data (will be filled by the scheduler output)\n",
    "        self.machine = {}\n",
    "        self.velocity = {}\n",
    "        self.num_levate = {}\n",
    "        # setup\n",
    "        self.setup_operator = {}\n",
    "        self.setup_beg = {}\n",
    "        self.setup_end = {}\n",
    "        self.cycle_end = {}\n",
    "        # load\n",
    "        self.load_operator = {}\n",
    "        self.load_beg = {}\n",
    "        self.load_end = {}\n",
    "        # unload\n",
    "        self.unload_operator = {}\n",
    "        self.unload_beg = {}\n",
    "        self.unload_end = {}\n",
    "    \n",
    "    def __str__(self) :\n",
    "        return f\"Product {self.id}\\n    Article : {self.article}\\n    Request : {self.kg_request} Kg\\n    Start date : {self.start_date}\\n    Due date : {self.due_date}\\n---\"\n",
    "\n",
    "class RunningProduct (Product) :\n",
    "    '''\n",
    "    A RunningProduct is a some product which is already being processed by some machine\n",
    "    when the scheduling operation begins\n",
    "    '''\n",
    "    def __init__(self, id, article, kg_request, start_date, due_date, machine, operator, velocity, remaining_levate, current_op_type, remaining_time) :\n",
    "        super().__init__(id, article, kg_request, start_date, due_date)\n",
    "        # Data related to settings associated to the running product\n",
    "        self.operator = operator\n",
    "        self.machine[0] = machine\n",
    "        self.velocity[0] = velocity\n",
    "        self.remaining_levate = remaining_levate # amount of levate to finish the cycle\n",
    "\n",
    "        # states in which phase the product is when the scheduling starts\n",
    "        #   can have 4 possible values {0, 1, 2, 3} \n",
    "        #   associated to a all cycle's possible phases {setup, load, running, unload}\n",
    "        self.current_op_type = current_op_type\n",
    "        # remaining time to finish the active production phase\n",
    "        self.remaining_time = remaining_time\n",
    "\n",
    "    def __str__(self) :\n",
    "        return f\"RunningProduct {self.id}\\n    Article : {self.article}\\n    Request : {self.kg_request} Kg\\n    Start date : {self.start_date}\\n    Due date : {self.due_date}\\n    Machine : {self.machine}\\n    Operator : {self.operator}\\n    Velocity : {self.velocity}\\n    Remaining levate : {self.remaining_levate}\\n    Current operation type : {self.current_op_type}\\n    Remaining time : {self.remaining_time}\\n---\""
   ]
  },
  {
   "cell_type": "code",
   "execution_count": 62,
   "metadata": {},
   "outputs": [
    {
     "name": "stdout",
     "output_type": "stream",
     "text": [
      "2024-11-13\n",
      "NaT\n",
      "2024-11-12\n",
      "2024-11-13\n",
      "2024-11-15\n",
      "NaT\n",
      "NaT\n",
      "2024-11-18\n",
      "2024-11-09\n",
      "2024-11-02\n",
      "2024-11-08\n",
      "2024-11-05\n",
      "2024-11-08\n",
      "NaT\n",
      "NaT\n",
      "2024-11-14\n",
      "2024-11-18\n",
      "2024-11-16\n",
      "NaT\n",
      "2024-11-18\n",
      "2024-11-18\n",
      "2024-11-15\n",
      "2024-11-13\n",
      "2024-11-03\n",
      "2024-11-08\n",
      "2024-11-14\n",
      "2024-11-16\n",
      "2024-11-19\n",
      "NaT\n",
      "2024-11-07\n",
      "2024-11-18\n",
      "2024-11-18\n",
      "NaT\n",
      "2024-11-18\n",
      "2024-11-16\n",
      "NaT\n",
      "NaT\n",
      "2024-11-13\n",
      "2024-11-19\n",
      "2024-11-19\n",
      "NaT\n",
      "2024-11-12\n",
      "2024-11-16\n",
      "NaT\n",
      "2024-11-15\n",
      "2024-11-07\n",
      "NaT\n",
      "2024-11-18\n",
      "2024-11-08\n",
      "2024-11-14\n",
      "2024-10-28\n",
      "2024-11-06\n",
      "2024-11-04\n",
      "2024-11-11\n",
      "2024-11-04\n",
      "2024-11-18\n",
      "2024-11-19\n",
      "NaT\n",
      "2024-11-19\n"
     ]
    }
   ],
   "source": [
    "stato_path = path + 'Stato_Macchine_' + data + '.xlsx'\n",
    "plan_path = path + 'Pianificazione_' + data + '.xlsx'\n",
    "\n",
    "df = get_input_data(stato_path, plan_path)\n",
    "running_products = get_running_products(df)"
   ]
  },
  {
   "cell_type": "code",
   "execution_count": 59,
   "metadata": {},
   "outputs": [
    {
     "data": {
      "text/plain": [
       "0.0"
      ]
     },
     "execution_count": 59,
     "metadata": {},
     "output_type": "execute_result"
    }
   ],
   "source": [
    "row = df.loc[0]\n",
    "\n",
    "int(row['N° levate ord']) - row['N° levate att.']"
   ]
  },
  {
   "cell_type": "code",
   "execution_count": 58,
   "metadata": {},
   "outputs": [
    {
     "data": {
      "text/plain": [
       "10"
      ]
     },
     "execution_count": 58,
     "metadata": {},
     "output_type": "execute_result"
    }
   ],
   "source": [
    "row['N° levate ord'], row['N° levate att.']\n",
    "\n",
    "# string to float\n",
    "int(row['N° levate ord'])"
   ]
  },
  {
   "cell_type": "code",
   "execution_count": 51,
   "metadata": {},
   "outputs": [
    {
     "data": {
      "text/plain": [
       "336"
      ]
     },
     "execution_count": 51,
     "metadata": {},
     "output_type": "execute_result"
    }
   ],
   "source": [
    "time_units_in_a_day = 24\n",
    "((pd.Timestamp.now() - pd.to_datetime(start_date)).days) * time_units_in_a_day"
   ]
  },
  {
   "cell_type": "code",
   "execution_count": 47,
   "metadata": {},
   "outputs": [
    {
     "ename": "NameError",
     "evalue": "name 'time_units_in_a_day' is not defined",
     "output_type": "error",
     "traceback": [
      "\u001b[0;31m---------------------------------------------------------------------------\u001b[0m",
      "\u001b[0;31mNameError\u001b[0m                                 Traceback (most recent call last)",
      "Cell \u001b[0;32mIn[47], line 2\u001b[0m\n\u001b[1;32m      1\u001b[0m start_date \u001b[38;5;241m=\u001b[39m df\u001b[38;5;241m.\u001b[39mloc[\u001b[38;5;241m0\u001b[39m, \u001b[38;5;124m'\u001b[39m\u001b[38;5;124mdata ora\u001b[39m\u001b[38;5;130;01m\\n\u001b[39;00m\u001b[38;5;124mpartenza\u001b[39m\u001b[38;5;124m'\u001b[39m]\u001b[38;5;241m.\u001b[39mdate()\n\u001b[0;32m----> 2\u001b[0m (pd\u001b[38;5;241m.\u001b[39mTimestamp\u001b[38;5;241m.\u001b[39mnow() \u001b[38;5;241m-\u001b[39m pd\u001b[38;5;241m.\u001b[39mto_datetime(start_date))\u001b[38;5;241m.\u001b[39mdays \u001b[38;5;241m*\u001b[39m time_units_in_a_day\n",
      "\u001b[0;31mNameError\u001b[0m: name 'time_units_in_a_day' is not defined"
     ]
    }
   ],
   "source": [
    "\n",
    "start_date = df.loc[0, 'data ora\\npartenza'].date()\n",
    "(pd.Timestamp.now() - pd.to_datetime(start_date)).days * time_units_in_a_day"
   ]
  },
  {
   "cell_type": "markdown",
   "metadata": {},
   "source": [
    "# Ordini"
   ]
  }
 ],
 "metadata": {
  "kernelspec": {
   "display_name": "base",
   "language": "python",
   "name": "python3"
  },
  "language_info": {
   "codemirror_mode": {
    "name": "ipython",
    "version": 3
   },
   "file_extension": ".py",
   "mimetype": "text/x-python",
   "name": "python",
   "nbconvert_exporter": "python",
   "pygments_lexer": "ipython3",
   "version": "3.11.5"
  }
 },
 "nbformat": 4,
 "nbformat_minor": 2
}
